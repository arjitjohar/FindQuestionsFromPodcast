{
 "cells": [
  {
   "cell_type": "code",
   "execution_count": 51,
   "metadata": {},
   "outputs": [],
   "source": [
    "import pandas as pd \n",
    "import numpy as np"
   ]
  },
  {
   "cell_type": "code",
   "execution_count": 52,
   "metadata": {},
   "outputs": [
    {
     "data": {
      "text/plain": [
       "'Ali Siddiq on I Dont Know Anyting Else Mentality.mp4'"
      ]
     },
     "execution_count": 52,
     "metadata": {},
     "output_type": "execute_result"
    }
   ],
   "source": [
    "import pytube\n",
    "from pytube import YouTube\n",
    "\n",
    "import os\n",
    "\n",
    "import subprocess\n",
    "\n",
    "# Replace input_file.mp4 with your input file name\n",
    "# Replace output_file.wav with your output file name\n",
    "\n",
    "\n",
    "#exteract audio from youtube video using pytube\n",
    "def download_audio(youtube_url, output_path):\n",
    "    yt = YouTube(youtube_url)\n",
    "    stream = yt.streams.filter(only_audio=True, ).first()\n",
    "\n",
    "    #remove white space from output path name\n",
    "    output_path = output_path.replace(\" \", \"\")\n",
    "\n",
    "    #remove special characters from output path name\n",
    "    output_path = ''.join(e for e in output_path if e.isalnum())\n",
    "\n",
    "    #only download if file does not exist\n",
    "    if not os.path.exists(f\"audio_files/{output_path}.mp4\"):\n",
    "        stream.download(output_path=\"audio_files\", filename=output_path+\".mp4\")\n",
    "\n",
    "    # convert mp4 to wav\n",
    "\n",
    "    path = f\"audio_files/{output_path}.mp4\"\n",
    "\n",
    "    \n",
    "\n",
    "\n",
    "    command = f\"ffmpeg -i {path} -vn -acodec pcm_s16le -ac 2 -ar 44100 audio_files/{output_path}.wav\"\n",
    "    \n",
    "    if not os.path.exists(f\"audio_files/{output_path}.wav\"):\n",
    "        subprocess.call(command, shell=True)\n",
    "\n",
    "    return stream.default_filename\n",
    "\n",
    "# get name of youtube video\n",
    "def get_name(youtube_url):\n",
    "    yt = YouTube(youtube_url)\n",
    "    return yt.title\n",
    "\n",
    "download_audio(f\"https://www.youtube.com/watch?v=zgNECKwizO8\", get_name(\"https://www.youtube.com/watch?v=zgNECKwizO8\"))\n",
    "\n"
   ]
  },
  {
   "cell_type": "code",
   "execution_count": 53,
   "metadata": {},
   "outputs": [
    {
     "name": "stderr",
     "output_type": "stream",
     "text": [
      "/opt/homebrew/Caskroom/miniforge/base/envs/nlp/lib/python3.11/site-packages/whisper/transcribe.py:114: UserWarning: FP16 is not supported on CPU; using FP32 instead\n",
      "  warnings.warn(\"FP16 is not supported on CPU; using FP32 instead\")\n"
     ]
    },
    {
     "name": "stdout",
     "output_type": "stream",
     "text": [
      " The Jeroke experience. They don't slap you on your wrist like other places. No, you can get a life sentence in Houston easy. It's easy. Do something, do something out of pocket. Like he was doing somewhere, you're going to just car jack. All right, that's a capital offense. You had a weapon while you was car jacking? OK, capital. What that start with, 35, whatever it is, is going to be 35 years and up. So get that wrapped around your mind. Oh, you watched them come out the bank? Are you premeditated robbing? Oh, OK. Show it got you on video too. And you had a weapon? Oh, yeah. Another capital. Like damn. Like, like as soon as man, you get hit with so many charges. And then they find out you got a weapon. You got a weapon? Like this, this is how they pointed you. Yeah, the weapon. Capital. They read it on capital on everything. Because they need more people to put in these jails. These carries out. I'm scared. Texas is like this. I only had to go once. And it's nothing ever in my life that I do to ever get back to that position. Nothing. Nothing. Like I hold court in the street before something like that happens. Look, I'm not in favor of car jacking our armed robbery. Not in any stretch of the imagination. But until you address why this is all happening. Yeah. Until you address why some people have zero need to rob people. And some people are the only way they can get by. Or the way they've learned to get by. And it's been in their neighborhood, for sure. They've been dealing with gang violence and drug dealing and chaos all their life. So I assure you this. Being formally from this position, have I not seen anything else, like ever? See, sometimes, sometimes I can rationalize when people say, I don't know anything else. Do you have a smartphone? How did you find out about smartphones? Because they didn't come to the hood and drive a bunch of smartphones in the hood. So how did you find out about it? What you was watching? What you was at? OK. So you were somewhere? OK, cool. What are they doing, what you were doing, what you're doing right now at that place? Well, you found out about a smartphone. Were they gang banging at the place? Or were they shooting and robbing people and cutting up dope? What movie haven't you seen that shows you the results of this? What person haven't you heard speak? Even when I was doing wrong, I had a sensibility of, I heard public enemy while I was doing wrong. Like, I heard Ron DMC. I heard other things that had positive stuff while I was still doing wrong. And I can't say it's all I know. Because now I wouldn't have never found out about a smartphone if I was in the street. Because I would be in the street. So it's not all you know. But it is what you're accustomed to if you grow up in a terrible neighborhood. I don't even think. If you don't have good role models, if the people around you, I mean, you tell me. This is what I'm saying. I think that it's a lot of parts to this. That but when it's also like when raising kids, like my oldest daughter, I used to tell her, her mom, don't say this in front of her. Because then you give her that option as an excuse. Something she probably never would have even thought of using. But when I give her the option to use it, that's the thing. Like with me, I'm very transparent about, man, I didn't have to be in the street selling, though my mom had a job. My desire for what I accepted outside of what my mother was saying to me. Because nobody's mother is saying to them, get out in the street and gang bang and create ruckus. Nobody. So when does that voice become less important to you than whatever you're seeing in the street? Because nobody in my community, not one black mother I ever even known in my life, said to their child, this is the only way for you to go and get it. It's to rob, pillage, steal, kill, sell, dope, not one person. I've never heard that story, why I was in prison. From nobody. And when people were telling me, man, it's all I know. How in the hell is that all that you know? It's impossible for that to be all that you know, because you were doing something before you were doing that. I see what you're saying. I see what you're saying. You're a person that takes extreme responsibility, though. You're also a grown man. And you're also a man with a fully formed brain. And you're frontal lobe. As a kid. As a kid. As a kid, you knew this. As a kid. As a kid, I wasn't, I wasn't, man, Joe, man, with me, we was out in the street doing stuff. We knew that it was wrong. That's why we was trying to hide it from our parents. I wasn't trying to hide my basketball championship from my mother. Of course. I wasn't trying to hide when I was working and earned something from working. I wasn't trying to hide that from a, I knew exactly what I was doing, because of how we were going about doing it. And all of us knew that we were wrong. And the consequences, what was ridiculous was, we thinking that it's a, oh, we just go in and get a slap on the wrist. Not understanding what you gotta go through to even get that slap on the wrist. Because when you, once, you gotta get arrested first. And when you go to, when you go to the county jail, the county jail is not a place. This is full of grown men. And they don't care nothing about you being 17. They don't care nothing about you being 18. Can't nothing about you being 19, because you didn't, whatever you were doing in the street, you didn't care. So why would we care about what you got going on in here? And we're gonna put you in the worst position. So maybe you can say that you don't want to be in this position. Maybe the people who love you will come get you out of this position. Like my mother did the first time. When my mother bought me out of the first time, I should have learned then. I should have learned then. This lady has a job. And I'm making it harder for her. I'm putting my mother in the whole $2,000. I got a $20,000 bond. How old were you then? I'm 16. I'm 16. I'm saying. Yeah. I have no reason because I want to God damn L, you and LV jacket. Well, you know that now, but what did you think when you were 16? You know what, when happened, what happened was how you even get in this situation? I'm in the car with some people that's really petty. They really petty. And I know these people petty, because they rob and people and I'm not no robber. I'm a hustler. And I know better than be with somebody that's a robber. Because it's two different categories. I don't think I'm hustling for whatever I want. You're taking something from somebody. You're a thief. And I'm in the car and he snatched his lady purse and I don't say nothing, I'm in the car. They're some camera in the parking lot. Everybody's going to call me going there. I'm not gonna snitch on you. But I didn't take no purse. And I told my mom, I didn't take that lady purse. But did you get some joins from the credit card and somebody used, I will them. But I ain't taking them from the lady. I told them, let's do it. And boom, now I'm on probation. Then I'm working at the grocery store. But I still got bread, I still got bread that from my hustling. So I'm trying to, I'm in a position and I'm trying to figure out how to give my mother this $2,000 back. Put some dumb shit that I didn't do. And I'm not supposed to be with nobody even like this. And see, nowadays people got this weird loyalty to people who they don't even fucking know. That's the crazy thing. You got loyalty to somebody who you don't know that I ain't got as much to lose as you. I only hang with, I only really hang with me and they got things to lose like me. So you make better decisions. Hey man, I'm not, hey man, you got enough, you man. What are you responsible for? Or who are you responsible for? That means a lot to me as a character of your person. Oh, I'm just out for self. Oh no, bro. You can't hang with me. You ain't got nobody just be responsible for you. Just yourself, no.\n"
     ]
    }
   ],
   "source": [
    "import whisper\n",
    "\n",
    "model = whisper.load_model(\"base\")\n",
    "\n",
    "\n",
    "# find all files in the audio_files folder\n",
    "\n",
    "import os\n",
    "import glob\n",
    "\n",
    "#return the first file in the audio_files folder\n",
    "def get_file():\n",
    "    list_of_files = glob.glob('audio_files/*') # * means all if need specific format then *.csv\n",
    "    latest_file = max(list_of_files, key=os.path.getctime)\n",
    "    return latest_file\n",
    "\n",
    "\n",
    "model = whisper.load_model(\"base\")\n",
    "result = model.transcribe(get_file())\n",
    "print(result[\"text\"])\n",
    "\n",
    "\n"
   ]
  },
  {
   "cell_type": "code",
   "execution_count": 54,
   "metadata": {},
   "outputs": [],
   "source": [
    "# make a list of all questions from result[\"text\"]\n",
    "\n",
    "import re\n",
    "\n",
    "def find_questions(text):\n",
    "    questions = []\n",
    "    for sentence in text.split(\"?\"):\n",
    "        \n",
    "        # save to questions.txt file\n",
    "        with open(\"questions.txt\", \"a\") as f:\n",
    "            f.write(sentence.split(\".\")[-1]+\"?\\n\")\n",
    "        \n",
    "\n",
    "find_questions(result[\"text\"])\n",
    "\n"
   ]
  },
  {
   "cell_type": "code",
   "execution_count": null,
   "metadata": {},
   "outputs": [],
   "source": []
  }
 ],
 "metadata": {
  "kernelspec": {
   "display_name": "nlp",
   "language": "python",
   "name": "python3"
  },
  "language_info": {
   "codemirror_mode": {
    "name": "ipython",
    "version": 3
   },
   "file_extension": ".py",
   "mimetype": "text/x-python",
   "name": "python",
   "nbconvert_exporter": "python",
   "pygments_lexer": "ipython3",
   "version": "3.11.0"
  },
  "orig_nbformat": 4
 },
 "nbformat": 4,
 "nbformat_minor": 2
}
